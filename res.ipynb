{
 "cells": [
  {
   "cell_type": "markdown",
   "metadata": {},
   "source": [
    "### Imports necesarios para el notebook"
   ]
  },
  {
   "cell_type": "code",
   "execution_count": null,
   "metadata": {},
   "outputs": [],
   "source": [
    "import matplotlib.pyplot as plt\n",
    "import pandas as pd\n",
    "from imblearn.under_sampling import RandomUnderSampler\n",
    "from sklearn.ensemble import RandomForestClassifier, IsolationForest\n",
    "from sklearn.linear_model import LogisticRegression\n",
    "from sklearn.metrics import recall_score\n",
    "from sklearn.model_selection import cross_validate, train_test_split\n",
    "from sklearn.neighbors import KNeighborsClassifier\n",
    "from sklearn.preprocessing import (LabelEncoder, MaxAbsScaler, MinMaxScaler,\n",
    "                                   Normalizer, RobustScaler, StandardScaler)\n",
    "from sklearn.svm import SVC"
   ]
  },
  {
   "cell_type": "markdown",
   "metadata": {},
   "source": [
    "### Carga de datos"
   ]
  },
  {
   "cell_type": "code",
   "execution_count": null,
   "metadata": {},
   "outputs": [],
   "source": [
    "df = pd.read_csv('bank/bank-full.csv', sep=';')"
   ]
  },
  {
   "cell_type": "markdown",
   "metadata": {},
   "source": [
    "### Analisis exploratorio de los datos"
   ]
  },
  {
   "cell_type": "code",
   "execution_count": null,
   "metadata": {},
   "outputs": [],
   "source": [
    "def count_unique_values_if_categorical(df):\n",
    "    for col in df.columns:\n",
    "        if df[col].dtype == 'object':\n",
    "            print(col, ': ', df[col].nunique())\n",
    "\n",
    "def eda(df):\n",
    "    print(df.info())\n",
    "    print(df.describe())\n",
    "    count_unique_values_if_categorical(df)\n",
    "    df.hist(bins=50)\n",
    "    plt.show()\n",
    "    print(df.groupby('y').describe())\n",
    "    print(df.groupby('y').agg(['mean']).unstack().plot(kind='bar'))\n",
    "    plt.show()"
   ]
  },
  {
   "cell_type": "code",
   "execution_count": null,
   "metadata": {},
   "outputs": [],
   "source": [
    "eda(df)"
   ]
  },
  {
   "cell_type": "markdown",
   "metadata": {},
   "source": [
    "### Preprocesamiento de los datos"
   ]
  },
  {
   "cell_type": "code",
   "execution_count": null,
   "metadata": {},
   "outputs": [],
   "source": [
    "# Common Data Preprocessing\n",
    "for column in df.columns:\n",
    "    if df[column].dtype == type(object):\n",
    "        le = LabelEncoder()\n",
    "        df[column] = le.fit_transform(df[column])\n",
    "\n",
    "iso = IsolationForest(contamination=0.05)\n",
    "X = df.drop('y', axis=1)\n",
    "outlier = iso.fit_predict(X)\n",
    "print(len(outlier[outlier == -1]))\n",
    "df['outlier'] = outlier\n",
    "\n",
    "print(df.loc[df['outlier'] ==-1].groupby('y').describe())"
   ]
  },
  {
   "cell_type": "markdown",
   "metadata": {},
   "source": [
    "### Pipeline de entrenamiento"
   ]
  },
  {
   "cell_type": "code",
   "execution_count": null,
   "metadata": {},
   "outputs": [],
   "source": [
    "# Función para realizar la validación cruzada para cada combinación\n",
    "def cross_evaluation(models, scalers, X, y):\n",
    "    for model in models:\n",
    "        for scaler in scalers:\n",
    "            print(\"Model: \", model, \"\\tScaler: \", scaler)\n",
    "            if scaler is not None:\n",
    "                X_scaled = scaler.fit_transform(X)\n",
    "            else:\n",
    "                X_scaled = X\n",
    "            scores = cross_validate(\n",
    "                model, X_scaled, y, cv=3, scoring=('accuracy', 'recall'), n_jobs=-1)\n",
    "            print('Accuracy: ', scores['test_accuracy'].mean())\n",
    "            print('Recall: ', scores['test_recall'].mean())"
   ]
  },
  {
   "cell_type": "code",
   "execution_count": null,
   "metadata": {},
   "outputs": [],
   "source": [
    "# Separar las variables de entrada y la variable de salida\n",
    "X = df.drop('y', axis=1)\n",
    "y = df['y']"
   ]
  },
  {
   "cell_type": "code",
   "execution_count": null,
   "metadata": {},
   "outputs": [],
   "source": [
    "# Modelos y preprocesadores a utilizar\n",
    "# Modelos\n",
    "lr = LogisticRegression(solver='liblinear')\n",
    "knn = KNeighborsClassifier(n_neighbors=5)\n",
    "rf = RandomForestClassifier(n_estimators=200)\n",
    "svm = SVC()\n",
    "models = [lr, knn, rf, svm]\n",
    "\n",
    "# Preprocesadores\n",
    "scaler = StandardScaler()\n",
    "scaler2 = MinMaxScaler()\n",
    "scaler3 = MaxAbsScaler()\n",
    "scaler4 = RobustScaler()\n",
    "scaler5 = Normalizer()\n",
    "scalers = [None, scaler, scaler2, scaler3, scaler4, scaler5]"
   ]
  },
  {
   "cell_type": "code",
   "execution_count": null,
   "metadata": {},
   "outputs": [],
   "source": [
    "# Realizar la validación cruzada\n",
    "cross_evaluation(models, scalers, X, y)"
   ]
  },
  {
   "cell_type": "markdown",
   "metadata": {},
   "source": [
    "### Pipeline de entranamiento con Random Undersampling"
   ]
  },
  {
   "cell_type": "code",
   "execution_count": null,
   "metadata": {},
   "outputs": [],
   "source": [
    "# Lectura y procesamiento de nuevo de los datos\n",
    "df = pd.read_csv('bank/bank-full.csv', sep=';')\n",
    "\n",
    "for column in df.columns:\n",
    "    if df[column].dtype == type(object):\n",
    "        le = LabelEncoder()\n",
    "        df[column] = le.fit_transform(df[column])\n",
    "\n",
    "X = df.drop('y', axis=1)\n",
    "y = df['y']\n",
    "\n",
    "# Realizado de random undersampling\n",
    "rus = RandomUnderSampler(sampling_strategy='majority')\n",
    "X, y = rus.fit_resample(X, y)\n",
    "\n",
    "cross_evaluation(models, scalers, X, y)"
   ]
  }
 ],
 "metadata": {
  "interpreter": {
   "hash": "31f2aee4e71d21fbe5cf8b01ff0e069b9275f58929596ceb00d14d90e3e16cd6"
  },
  "kernelspec": {
   "display_name": "Python 3.8.10 64-bit",
   "language": "python",
   "name": "python3"
  },
  "language_info": {
   "codemirror_mode": {
    "name": "ipython",
    "version": 3
   },
   "file_extension": ".py",
   "mimetype": "text/x-python",
   "name": "python",
   "nbconvert_exporter": "python",
   "pygments_lexer": "ipython3",
   "version": "3.8.10"
  },
  "orig_nbformat": 4
 },
 "nbformat": 4,
 "nbformat_minor": 2
}
